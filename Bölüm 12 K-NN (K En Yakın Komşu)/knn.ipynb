{
 "cells": [
  {
   "cell_type": "code",
   "execution_count": 19,
   "id": "available-reaction",
   "metadata": {},
   "outputs": [
    {
     "name": "stdout",
     "output_type": "stream",
     "text": [
      "<class 'pandas.core.frame.DataFrame'>\n",
      "RangeIndex: 22 entries, 0 to 21\n",
      "Data columns (total 5 columns):\n",
      " #   Column    Non-Null Count  Dtype \n",
      "---  ------    --------------  ----- \n",
      " 0   ulke      22 non-null     object\n",
      " 1   boy       22 non-null     int64 \n",
      " 2   kilo      22 non-null     int64 \n",
      " 3   yas       22 non-null     int64 \n",
      " 4   cinsiyet  22 non-null     object\n",
      "dtypes: int64(3), object(2)\n",
      "memory usage: 1008.0+ bytes\n"
     ]
    }
   ],
   "source": [
    "import pandas as pd\n",
    "from sklearn.preprocessing import StandardScaler\n",
    "from sklearn.model_selection import train_test_split\n",
    "data = pd.read_csv(\"veriler.csv\")\n",
    "df = data.copy()\n",
    "df.head()\n",
    "X = df.drop([\"cinsiyet\",\"ulke\"],axis=1)\n",
    "y = df[[\"cinsiyet\"]]\n",
    "x_train,x_test,y_train,y_test = train_test_split(X,y,test_size=0.34,random_state=42)\n",
    "ss = StandardScaler()\n",
    "X_train = ss.fit_transform(x_train)  \n",
    "X_test = ss.fit_transform(x_test)\n",
    "df.head()\n",
    "df.info()"
   ]
  },
  {
   "cell_type": "code",
   "execution_count": 26,
   "id": "indoor-exhibit",
   "metadata": {},
   "outputs": [
    {
     "name": "stdout",
     "output_type": "stream",
     "text": [
      "0.9285714285714286\n",
      "[[6 1]\n",
      " [0 7]]\n"
     ]
    }
   ],
   "source": [
    "from sklearn.neighbors import KNeighborsClassifier\n",
    "from sklearn.metrics import accuracy_score,confusion_matrix\n",
    "knn = KNeighborsClassifier(n_neighbors=3,metric=\"minkowski\")\n",
    "model  = knn.fit(X_train,y_train)\n",
    "y_pred = model.predict(X_train)\n",
    "acs_train = accuracy_score(y_train,y_pred)\n",
    "print(acs_train)\n",
    "print(confusion_matrix(y_train,y_pred))"
   ]
  },
  {
   "cell_type": "code",
   "execution_count": 30,
   "id": "comprehensive-creativity",
   "metadata": {},
   "outputs": [
    {
     "data": {
      "image/png": "[encoded data removed]",
      "text/plain": [
       "<Figure size 432x288 with 1 Axes>"
      ]
     },
     "metadata": {
      "needs_background": "light"
     },
     "output_type": "display_data"
    }
   ],
   "source": [
    "import matplotlib.pyplot as plt\n",
    "neighbor = list(range(1,11))\n",
    "acs = []\n",
    "acs_test = []\n",
    "for i in range(1,11):\n",
    "   knn = KNeighborsClassifier(n_neighbors=i,metric=\"minkowski\")\n",
    "   model  = knn.fit(X_train,y_train)\n",
    "   y_pred = model.predict(X_train)\n",
    "   y_test1 = model.predict(X_test)\n",
    "   acs_train = accuracy_score(y_train,y_pred)\n",
    "   acs_test1 = accuracy_score(y_test1,y_test)\n",
    "   acs.append(acs_train)\n",
    "   acs_test.append(acs_test1) \n",
    "plt.plot(neighbor,acs)\n",
    "plt.plot(neighbor,acs_test)\n",
    "plt.figure\n",
    "plt.xlabel(\"komşu\")\n",
    "plt.ylabel(\"acs\");"
   ]
  },
  {
   "cell_type": "code",
   "execution_count": 29,
   "id": "offshore-consultation",
   "metadata": {},
   "outputs": [
    {
     "data": {
      "text/plain": [
       "[1.0, 1.0, 1.0, 1.0, 1.0, 1.0, 1.0, 1.0, 1.0, 1.0]"
      ]
     },
     "execution_count": 29,
     "metadata": {},
     "output_type": "execute_result"
    }
   ],
   "source": [
    "acs_test"
   ]
  },
  {
   "cell_type": "code",
   "execution_count": null,
   "id": "arranged-necessity",
   "metadata": {},
   "outputs": [],
   "source": []
  }
 ],
 "metadata": {
  "kernelspec": {
   "display_name": "Python 3",
   "language": "python",
   "name": "python3"
  },
  "language_info": {
   "codemirror_mode": {
    "name": "ipython",
    "version": 3
   },
   "file_extension": ".py",
   "mimetype": "text/x-python",
   "name": "python",
   "nbconvert_exporter": "python",
   "pygments_lexer": "ipython3",
   "version": "3.8.3"
  }
 },
 "nbformat": 4,
 "nbformat_minor": 5
}
