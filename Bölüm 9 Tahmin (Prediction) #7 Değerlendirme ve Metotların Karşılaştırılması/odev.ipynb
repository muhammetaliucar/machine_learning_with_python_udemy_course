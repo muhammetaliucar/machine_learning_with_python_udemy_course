{
 "cells": [
  {
   "cell_type": "code",
   "execution_count": 18,
   "id": "minor-lawrence",
   "metadata": {},
   "outputs": [
    {
     "ename": "TypeError",
     "evalue": "drop() got multiple values for argument 'axis'",
     "output_type": "error",
     "traceback": [
      "\u001b[1;31m---------------------------------------------------------------------------\u001b[0m",
      "\u001b[1;31mTypeError\u001b[0m                                 Traceback (most recent call last)",
      "\u001b[1;32m<ipython-input-18-02a4f77dc4be>\u001b[0m in \u001b[0;36m<module>\u001b[1;34m\u001b[0m\n\u001b[0;32m      3\u001b[0m \u001b[0mdf\u001b[0m \u001b[1;33m=\u001b[0m \u001b[0mdata\u001b[0m\u001b[1;33m.\u001b[0m\u001b[0mcopy\u001b[0m\u001b[1;33m(\u001b[0m\u001b[1;33m)\u001b[0m\u001b[1;33m\u001b[0m\u001b[1;33m\u001b[0m\u001b[0m\n\u001b[0;32m      4\u001b[0m \u001b[0mdf\u001b[0m\u001b[1;33m.\u001b[0m\u001b[0mhead\u001b[0m\u001b[1;33m(\u001b[0m\u001b[1;33m)\u001b[0m\u001b[1;33m\u001b[0m\u001b[1;33m\u001b[0m\u001b[0m\n\u001b[1;32m----> 5\u001b[1;33m \u001b[0mX\u001b[0m \u001b[1;33m=\u001b[0m \u001b[0mdf\u001b[0m\u001b[1;33m.\u001b[0m\u001b[0mdrop\u001b[0m\u001b[1;33m(\u001b[0m\u001b[1;34m\"unvan\"\u001b[0m\u001b[1;33m,\u001b[0m\u001b[1;34m\"maas\"\u001b[0m\u001b[1;33m,\u001b[0m\u001b[1;34m\"Calisan ID\"\u001b[0m\u001b[1;33m,\u001b[0m\u001b[0maxis\u001b[0m\u001b[1;33m=\u001b[0m\u001b[1;36m1\u001b[0m\u001b[1;33m)\u001b[0m\u001b[1;33m\u001b[0m\u001b[1;33m\u001b[0m\u001b[0m\n\u001b[0m\u001b[0;32m      6\u001b[0m \u001b[0my\u001b[0m \u001b[1;33m=\u001b[0m \u001b[0mdf\u001b[0m\u001b[1;33m[\u001b[0m\u001b[1;33m[\u001b[0m\u001b[1;34m\"maas\"\u001b[0m\u001b[1;33m]\u001b[0m\u001b[1;33m]\u001b[0m\u001b[1;33m\u001b[0m\u001b[1;33m\u001b[0m\u001b[0m\n",
      "\u001b[1;31mTypeError\u001b[0m: drop() got multiple values for argument 'axis'"
     ]
    }
   ],
   "source": [
    "import pandas as pd\n",
    "data = pd.read_csv(\"maaslar_yeni.csv\")\n",
    "df = data.copy()\n",
    "df.head()\n",
    "X = df.drop(\"unvan\",\"maas\",\"Calisan ID\",axis=1)\n",
    "y = df[[\"maas\"]]"
   ]
  },
  {
   "cell_type": "code",
   "execution_count": 19,
   "id": "express-torture",
   "metadata": {},
   "outputs": [
    {
     "name": "stdout",
     "output_type": "stream",
     "text": [
      "                                 OLS Regression Results                                \n",
      "=======================================================================================\n",
      "Dep. Variable:                   maas   R-squared (uncentered):                   1.000\n",
      "Model:                            OLS   Adj. R-squared (uncentered):              1.000\n",
      "Method:                 Least Squares   F-statistic:                          4.417e+31\n",
      "Date:                Tue, 13 Jul 2021   Prob (F-statistic):                        0.00\n",
      "Time:                        10:33:17   Log-Likelihood:                          733.82\n",
      "No. Observations:                  30   AIC:                                     -1458.\n",
      "Df Residuals:                      25   BIC:                                     -1451.\n",
      "Df Model:                           5                                                  \n",
      "Covariance Type:            nonrobust                                                  \n",
      "=================================================================================\n",
      "                    coef    std err          t      P>|t|      [0.025      0.975]\n",
      "---------------------------------------------------------------------------------\n",
      "Calisan ID    -2.416e-13   1.52e-13     -1.587      0.125   -5.55e-13    7.19e-14\n",
      "UnvanSeviyesi  1.137e-12   5.56e-13      2.044      0.052   -8.81e-15    2.28e-12\n",
      "Kidem          3.979e-13   4.94e-13      0.805      0.428    -6.2e-13    1.42e-12\n",
      "Puan           -1.35e-13   4.55e-14     -2.966      0.007   -2.29e-13   -4.12e-14\n",
      "maas              1.0000   1.22e-16   8.22e+15      0.000       1.000       1.000\n",
      "==============================================================================\n",
      "Omnibus:                        2.307   Durbin-Watson:                   1.496\n",
      "Prob(Omnibus):                  0.316   Jarque-Bera (JB):                1.469\n",
      "Skew:                          -0.539   Prob(JB):                        0.480\n",
      "Kurtosis:                       3.123   Cond. No.                     8.98e+03\n",
      "==============================================================================\n",
      "\n",
      "Notes:\n",
      "[1] R² is computed without centering (uncentered) since the model does not contain a constant.\n",
      "[2] Standard Errors assume that the covariance matrix of the errors is correctly specified.\n",
      "[3] The condition number is large, 8.98e+03. This might indicate that there are\n",
      "strong multicollinearity or other numerical problems.\n"
     ]
    }
   ],
   "source": [
    "import statsmodels.api as sm\n",
    "model = sm.OLS(y,X)\n",
    "print(model.fit().summary())"
   ]
  },
  {
   "cell_type": "code",
   "execution_count": 20,
   "id": "surgical-advocacy",
   "metadata": {},
   "outputs": [
    {
     "name": "stdout",
     "output_type": "stream",
     "text": [
      "                                 OLS Regression Results                                \n",
      "=======================================================================================\n",
      "Dep. Variable:                      y   R-squared (uncentered):                   0.991\n",
      "Model:                            OLS   Adj. R-squared (uncentered):              0.990\n",
      "Method:                 Least Squares   F-statistic:                              3107.\n",
      "Date:                Tue, 13 Jul 2021   Prob (F-statistic):                    4.75e-31\n",
      "Time:                        11:34:21   Log-Likelihood:                         -261.87\n",
      "No. Observations:                  30   AIC:                                      525.7\n",
      "Df Residuals:                      29   BIC:                                      527.1\n",
      "Df Model:                           1                                                  \n",
      "Covariance Type:            nonrobust                                                  \n",
      "==============================================================================\n",
      "                 coef    std err          t      P>|t|      [0.025      0.975]\n",
      "------------------------------------------------------------------------------\n",
      "maas           0.9038      0.016     55.737      0.000       0.871       0.937\n",
      "==============================================================================\n",
      "Omnibus:                       15.666   Durbin-Watson:                   1.542\n",
      "Prob(Omnibus):                  0.000   Jarque-Bera (JB):               67.460\n",
      "Skew:                          -0.323   Prob(JB):                     2.25e-15\n",
      "Kurtosis:                      10.318   Cond. No.                         1.00\n",
      "==============================================================================\n",
      "\n",
      "Notes:\n",
      "[1] R² is computed without centering (uncentered) since the model does not contain a constant.\n",
      "[2] Standard Errors assume that the covariance matrix of the errors is correctly specified.\n"
     ]
    },
    {
     "name": "stderr",
     "output_type": "stream",
     "text": [
      "<ipython-input-20-0492db5323ea>:3: DataConversionWarning: A column-vector y was passed when a 1d array was expected. Please change the shape of y to (n_samples,), for example using ravel().\n",
      "  rfr_model = rfr.fit(X,y)\n"
     ]
    }
   ],
   "source": [
    "from sklearn.ensemble import RandomForestRegressor\n",
    "rfr = RandomForestRegressor(n_estimators=10,random_state=42)\n",
    "rfr_model = rfr.fit(X,y)\n",
    "rfr_sm = sm.OLS(rfr_model.predict(X),y)\n",
    "print(rfr_sm.fit().summary())"
   ]
  },
  {
   "cell_type": "code",
   "execution_count": null,
   "id": "vital-covering",
   "metadata": {},
   "outputs": [],
   "source": []
  }
 ],
 "metadata": {
  "kernelspec": {
   "display_name": "Python 3",
   "language": "python",
   "name": "python3"
  },
  "language_info": {
   "codemirror_mode": {
    "name": "ipython",
    "version": 3
   },
   "file_extension": ".py",
   "mimetype": "text/x-python",
   "name": "python",
   "nbconvert_exporter": "python",
   "pygments_lexer": "ipython3",
   "version": "3.8.3"
  }
 },
 "nbformat": 4,
 "nbformat_minor": 5
}
