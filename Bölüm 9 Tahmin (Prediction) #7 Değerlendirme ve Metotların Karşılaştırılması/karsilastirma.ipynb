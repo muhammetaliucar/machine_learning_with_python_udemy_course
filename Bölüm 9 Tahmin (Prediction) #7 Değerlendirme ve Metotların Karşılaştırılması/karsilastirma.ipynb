{
 "cells": [
  {
   "cell_type": "code",
   "execution_count": 21,
   "id": "complex-distributor",
   "metadata": {},
   "outputs": [
    {
     "name": "stderr",
     "output_type": "stream",
     "text": [
      "<ipython-input-21-a4c6658cd122>:10: DataConversionWarning: A column-vector y was passed when a 1d array was expected. Please change the shape of y to (n_samples,), for example using ravel().\n",
      "  model = rfc.fit(X,y)\n"
     ]
    },
    {
     "data": {
      "image/png": "[encoded data removed]",
      "text/plain": [
       "<Figure size 432x288 with 1 Axes>"
      ]
     },
     "metadata": {
      "needs_background": "light"
     },
     "output_type": "display_data"
    }
   ],
   "source": [
    "import pandas as pd\n",
    "data = pd.read_csv(\"maaslar.csv\")\n",
    "df = data.copy()\n",
    "from sklearn.ensemble import RandomForestClassifier\n",
    "rfc = RandomForestClassifier(n_estimators=10,random_state=42)\n",
    "X = df[[\"Egitim Seviyesi\"]]\n",
    "y = df[[\"maas\"]]\n",
    "k = X + 0.5\n",
    "t = X - 0.4\n",
    "model = rfc.fit(X,y)\n",
    "x_pred = model.predict(X)\n",
    "k_pred = model.predict(k)\n",
    "t_pred = model.predict(t)\n",
    "from sklearn.metrics import r2_score\n",
    "r2_y_pred = r2_score(y,x_pred)\n",
    "r2_k_pred = r2_score(y,k_pred)\n",
    "r2_t_pred = r2_score(y,t_pred)\n",
    "import seaborn as sns\n",
    "dicto = {\"y\":[r2_y_pred],\n",
    "        \"k\":[r2_k_pred],\n",
    "        \"t\":[r2_t_pred]}\n",
    "liste = [r2_y_pred,r2_t_pred,r2_k_pred]\n",
    "liste_name = [\"y\",\"t\",\"k\"]\n",
    "import matplotlib.pyplot as plt\n",
    "sns.barplot(x=liste,y=liste_name)\n",
    "plt.show()"
   ]
  },
  {
   "cell_type": "code",
   "execution_count": 25,
   "id": "controlled-apple",
   "metadata": {},
   "outputs": [
    {
     "name": "stderr",
     "output_type": "stream",
     "text": [
      "C:\\Anaconda3\\lib\\site-packages\\sklearn\\utils\\validation.py:72: DataConversionWarning: A column-vector y was passed when a 1d array was expected. Please change the shape of y to (n_samples, ), for example using ravel().\n",
      "  return f(**kwargs)\n"
     ]
    },
    {
     "data": {
      "text/plain": [
       "[<matplotlib.lines.Line2D at 0x2c4ef8cbaf0>]"
      ]
     },
     "execution_count": 25,
     "metadata": {},
     "output_type": "execute_result"
    },
    {
     "data": {
      "image/png": "[encoded data removed]",
      "text/plain": [
       "<Figure size 432x288 with 1 Axes>"
      ]
     },
     "metadata": {
      "needs_background": "light"
     },
     "output_type": "display_data"
    }
   ],
   "source": [
    "from sklearn.svm import SVR\n",
    "svr = SVR(kernel=\"rbf\")\n",
    "\n",
    "from sklearn.preprocessing import StandardScaler\n",
    "ss = StandardScaler()\n",
    "\n",
    "x_1 = ss.fit_transform(X)\n",
    "y_1 = ss.fit_transform(y)\n",
    "model_svr = svr.fit(x_1,y_1)\n",
    "r2_score(x_1,model_svr.predict(x_1))\n",
    "plt.scatter(x_1,y_1)\n",
    "plt.plot(x_1,model_svr.predict(x_1))"
   ]
  },
  {
   "cell_type": "code",
   "execution_count": null,
   "id": "living-capacity",
   "metadata": {},
   "outputs": [],
   "source": []
  }
 ],
 "metadata": {
  "kernelspec": {
   "display_name": "Python 3",
   "language": "python",
   "name": "python3"
  },
  "language_info": {
   "codemirror_mode": {
    "name": "ipython",
    "version": 3
   },
   "file_extension": ".py",
   "mimetype": "text/x-python",
   "name": "python",
   "nbconvert_exporter": "python",
   "pygments_lexer": "ipython3",
   "version": "3.8.3"
  }
 },
 "nbformat": 4,
 "nbformat_minor": 5
}
